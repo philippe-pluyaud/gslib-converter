{
 "cells": [
  {
   "cell_type": "markdown",
   "id": "90b7bb4f-b8d8-43a1-b3c8-5309fa7966ed",
   "metadata": {},
   "source": [
    "# Filter to Convert GsLib file for Joints"
   ]
  },
  {
   "cell_type": "code",
   "execution_count": 1,
   "id": "aa8baf7d-e2ab-4958-a5fe-0c94f7f60a50",
   "metadata": {},
   "outputs": [
    {
     "data": {
      "application/vnd.jupyter.widget-view+json": {
       "model_id": "28992fffe87547ba8e6ea44eff44a6c3",
       "version_major": 2,
       "version_minor": 0
      },
      "text/plain": [
       "HBox(children=(Text(value='', description='Input File:', layout=Layout(width='500px')), Button(description='Br…"
      ]
     },
     "metadata": {},
     "output_type": "display_data"
    },
    {
     "data": {
      "application/vnd.jupyter.widget-view+json": {
       "model_id": "f6318faad64a492692fd39d78078ad52",
       "version_major": 2,
       "version_minor": 0
      },
      "text/plain": [
       "HBox(children=(Text(value='', description='Output File:', layout=Layout(width='500px')), Button(description='B…"
      ]
     },
     "metadata": {},
     "output_type": "display_data"
    },
    {
     "data": {
      "application/vnd.jupyter.widget-view+json": {
       "model_id": "37eeca844625444f879f16b88db70e24",
       "version_major": 2,
       "version_minor": 0
      },
      "text/plain": [
       "BoundedIntText(value=0, description='I offset:')"
      ]
     },
     "metadata": {},
     "output_type": "display_data"
    },
    {
     "data": {
      "application/vnd.jupyter.widget-view+json": {
       "model_id": "a9772750089c4b208f1ca328d2f237ce",
       "version_major": 2,
       "version_minor": 0
      },
      "text/plain": [
       "BoundedIntText(value=0, description='J offset:')"
      ]
     },
     "metadata": {},
     "output_type": "display_data"
    },
    {
     "data": {
      "application/vnd.jupyter.widget-view+json": {
       "model_id": "c99c14a0932046a0b9a49511fa9e5d24",
       "version_major": 2,
       "version_minor": 0
      },
      "text/plain": [
       "BoundedIntText(value=0, description='K offset:')"
      ]
     },
     "metadata": {},
     "output_type": "display_data"
    },
    {
     "data": {
      "application/vnd.jupyter.widget-view+json": {
       "model_id": "b924d641aafd47b79321f12292776748",
       "version_major": 2,
       "version_minor": 0
      },
      "text/plain": [
       "BoundedFloatText(value=0.0, description='Dip angle:', max=90.0)"
      ]
     },
     "metadata": {},
     "output_type": "display_data"
    },
    {
     "data": {
      "application/vnd.jupyter.widget-view+json": {
       "model_id": "147da5f6b3ee443c922644cb50319524",
       "version_major": 2,
       "version_minor": 0
      },
      "text/plain": [
       "BoundedFloatText(value=0.0, description='Strike angle:', max=360.0)"
      ]
     },
     "metadata": {},
     "output_type": "display_data"
    },
    {
     "data": {
      "application/vnd.jupyter.widget-view+json": {
       "model_id": "f6d7843bc6794b06b93bf6a134f9ef04",
       "version_major": 2,
       "version_minor": 0
      },
      "text/plain": [
       "FloatText(value=8000000.0, description='KN:')"
      ]
     },
     "metadata": {},
     "output_type": "display_data"
    },
    {
     "data": {
      "application/vnd.jupyter.widget-view+json": {
       "model_id": "b8434444637c482cacfa20c69938fbe9",
       "version_major": 2,
       "version_minor": 0
      },
      "text/plain": [
       "FloatText(value=4000000.0, description='KS:')"
      ]
     },
     "metadata": {},
     "output_type": "display_data"
    },
    {
     "data": {
      "application/vnd.jupyter.widget-view+json": {
       "model_id": "4f086e23cfad439bb6af05579fb49180",
       "version_major": 2,
       "version_minor": 0
      },
      "text/plain": [
       "Button(description='Submit', style=ButtonStyle())"
      ]
     },
     "metadata": {},
     "output_type": "display_data"
    },
    {
     "data": {
      "application/vnd.jupyter.widget-view+json": {
       "model_id": "532f94e2afda476e829f31bce8022ab3",
       "version_major": 2,
       "version_minor": 0
      },
      "text/plain": [
       "Output()"
      ]
     },
     "metadata": {},
     "output_type": "display_data"
    }
   ],
   "source": [
    "%load_ext autoreload\n",
    "%autoreload 2\n",
    "    \n",
    "import ipywidgets as widgets\n",
    "from IPython.display import display\n",
    "from tkinter import Tk, filedialog\n",
    "from ConvertGsLibFileForJoints import modify_gslib\n",
    "\n",
    "# Input and output file selectors\n",
    "input_file = widgets.Text(description='Input File:', value='', layout=widgets.Layout(width='500px'))\n",
    "browse_input_button = widgets.Button(description='Browse...')\n",
    "\n",
    "output_file = widgets.Text(description='Output File:', value='', layout=widgets.Layout(width='500px'))\n",
    "browse_output_button = widgets.Button(description='Browse...')\n",
    "\n",
    "def browse_input(b):\n",
    "    root = Tk()\n",
    "    root.withdraw()\n",
    "    root.attributes('-topmost', True)\n",
    "    \n",
    "    filename = filedialog.askopenfilename(\n",
    "        title='Select input file',\n",
    "        filetypes=[('GsLib files', '*.gslib'), ('All files', '*.*')]\n",
    "    )\n",
    "    \n",
    "    if filename:\n",
    "        input_file.value = filename\n",
    "    \n",
    "    root.destroy()\n",
    "\n",
    "def browse_output(b):\n",
    "    root = Tk()\n",
    "    root.withdraw()\n",
    "    root.attributes('-topmost', True)\n",
    "    \n",
    "    filename = filedialog.asksaveasfilename(\n",
    "        defaultextension='.gslib',\n",
    "        filetypes=[('GsLib files', '*.gslib'), ('All files', '*.*')]\n",
    "    )\n",
    "    \n",
    "    if filename:\n",
    "        output_file.value = filename\n",
    "    \n",
    "    root.destroy()\n",
    "\n",
    "browse_input_button.on_click(browse_input)\n",
    "browse_output_button.on_click(browse_output)\n",
    "\n",
    "# Other int or float parameters\n",
    "i_offset = widgets.BoundedIntText(value=0, min=0, description='I offset:')\n",
    "j_offset = widgets.BoundedIntText(value=0, min=0, description='J offset:')\n",
    "k_offset = widgets.BoundedIntText(value=0, min=0, description='K offset:')\n",
    "dip_angle = widgets.BoundedFloatText(value=0.0, min=0, max=90, description='Dip angle:')\n",
    "strike_angle = widgets.BoundedFloatText(value=0.0, min=0, max=360, description='Strike angle:')\n",
    "KN = widgets.FloatText(value=8000000, description='KN:')\n",
    "KS = widgets.FloatText(value=4000000, description='KS:')\n",
    "\n",
    "submit_button = widgets.Button(description='Submit')\n",
    "output = widgets.Output()\n",
    "\n",
    "def on_submit(b):\n",
    "    with output:\n",
    "        output.clear_output()\n",
    "        print(f\"Input file: {input_file.value}\")\n",
    "        print(f\"Output file: {output_file.value}\")\n",
    "        print(f\"Offsets: i={i_offset.value}, j={j_offset.value}, k={k_offset.value}\")\n",
    "        print(f\"Angles: dip={dip_angle.value}, strike={strike_angle.value}\")\n",
    "        print(f\"KN={KN.value}, KS={KS.value}\")\n",
    "        modify_gslib(\n",
    "            input_file.value, output_file.value,\n",
    "            int(i_offset.value), int(j_offset.value), int(k_offset.value), \n",
    "            float(dip_angle.value), float(strike_angle.value), float(KN.value), float(KS.value)\n",
    "        )\n",
    "\n",
    "submit_button.on_click(on_submit)\n",
    "\n",
    "# Display everything\n",
    "display(\n",
    "    widgets.HBox([input_file, browse_input_button]),\n",
    "    widgets.HBox([output_file, browse_output_button]),\n",
    "    i_offset, j_offset, k_offset, \n",
    "    dip_angle, strike_angle, KN, KS, submit_button, output\n",
    ")"
   ]
  },
  {
   "cell_type": "code",
   "execution_count": null,
   "id": "3e81bb8e-d2cb-4814-8a59-f9d6652cb9a8",
   "metadata": {},
   "outputs": [],
   "source": []
  }
 ],
 "metadata": {
  "kernelspec": {
   "display_name": "Python 3 (ipykernel)",
   "language": "python",
   "name": "python3"
  },
  "language_info": {
   "codemirror_mode": {
    "name": "ipython",
    "version": 3
   },
   "file_extension": ".py",
   "mimetype": "text/x-python",
   "name": "python",
   "nbconvert_exporter": "python",
   "pygments_lexer": "ipython3",
   "version": "3.10.11"
  }
 },
 "nbformat": 4,
 "nbformat_minor": 5
}
